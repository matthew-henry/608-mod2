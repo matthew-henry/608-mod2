{
 "cells": [
  {
   "cell_type": "markdown",
   "id": "5f1e9b66-313e-4ec1-8ab9-9e2c0e8df7e4",
   "metadata": {},
   "source": [
    "3.3 Self Check"
   ]
  },
  {
   "cell_type": "code",
   "execution_count": 1,
   "id": "eb77b4c9-f470-48e0-b19f-335fe92f216d",
   "metadata": {},
   "outputs": [
    {
     "name": "stdin",
     "output_type": "stream",
     "text": [
      "Enter first integer:  5\n"
     ]
    }
   ],
   "source": [
    "number1 = int(input('Enter first integer: '))"
   ]
  },
  {
   "cell_type": "code",
   "execution_count": 2,
   "id": "cbbb2e01-dec0-4d75-a6ab-23ac0b99ff44",
   "metadata": {},
   "outputs": [
    {
     "name": "stdin",
     "output_type": "stream",
     "text": [
      "Enter second integer:  7\n"
     ]
    }
   ],
   "source": [
    "number2 = int(input('Enter second integer: '))"
   ]
  },
  {
   "cell_type": "code",
   "execution_count": 3,
   "id": "64d8f2c3-7024-4b6e-a6b3-ad91d2f2f423",
   "metadata": {},
   "outputs": [],
   "source": [
    "total = number1 + number2"
   ]
  },
  {
   "cell_type": "code",
   "execution_count": 4,
   "id": "64349590-3e0a-43ee-be2d-da83a76d791a",
   "metadata": {},
   "outputs": [
    {
     "name": "stdout",
     "output_type": "stream",
     "text": [
      "The sum of 5 and 7 is 12\n"
     ]
    }
   ],
   "source": [
    "print(f'The sum of {number1} and {number2} is {total}')"
   ]
  },
  {
   "cell_type": "markdown",
   "id": "275b5126-4acf-43e8-90b7-4d5ed0fd31c6",
   "metadata": {},
   "source": [
    "3.4 Self Check does not have any coding exercise"
   ]
  },
  {
   "cell_type": "markdown",
   "id": "c76773ad-aeb2-4dd3-9f98-36b944d09139",
   "metadata": {},
   "source": [
    "3.5 Self Check"
   ]
  },
  {
   "cell_type": "code",
   "execution_count": 67,
   "id": "0ce13622-a217-454e-b087-df3fd7c2b099",
   "metadata": {},
   "outputs": [],
   "source": [
    "grade = 85"
   ]
  },
  {
   "cell_type": "code",
   "execution_count": 68,
   "id": "080ae644-72fc-40d9-af11-14f52a957853",
   "metadata": {},
   "outputs": [
    {
     "name": "stdout",
     "output_type": "stream",
     "text": [
      "Passed\n"
     ]
    }
   ],
   "source": [
    "if grade >= 60:\n",
    "    print('Passed')"
   ]
  },
  {
   "cell_type": "code",
   "execution_count": 69,
   "id": "e4aef16b-4a87-4c81-8f02-61954a658c35",
   "metadata": {},
   "outputs": [],
   "source": [
    "grade = 55"
   ]
  },
  {
   "cell_type": "code",
   "execution_count": 70,
   "id": "510cf2d6-47a0-4c21-98b1-30b9b3c81e27",
   "metadata": {},
   "outputs": [],
   "source": [
    "if grade >= 60:\n",
    "    print('Passed')"
   ]
  },
  {
   "cell_type": "markdown",
   "id": "ab0bda3f-dcdd-4556-a382-d53967683e8c",
   "metadata": {},
   "source": [
    "Obviously the if block does not execute as the condition is false."
   ]
  },
  {
   "cell_type": "code",
   "execution_count": 71,
   "id": "bc2473b8-e785-465a-9f88-60b1b61545ef",
   "metadata": {},
   "outputs": [],
   "source": [
    "grade = 80"
   ]
  },
  {
   "cell_type": "code",
   "execution_count": 72,
   "id": "f2b3515e-3230-4d84-85d2-3d65bee626d9",
   "metadata": {},
   "outputs": [
    {
     "name": "stdout",
     "output_type": "stream",
     "text": [
      "B\n"
     ]
    }
   ],
   "source": [
    "if grade >= 90:\n",
    "    print('A')\n",
    "elif grade >= 80:\n",
    "    print('B')\n",
    "else:\n",
    "    print('Not A or B')\n",
    "\n",
    "    "
   ]
  },
  {
   "cell_type": "markdown",
   "id": "d8a8dc29-3fdd-4703-874b-9429ac225de8",
   "metadata": {},
   "source": [
    "Demonstrating that else preceeding elif generates a syntax error as the self-check requests. Correcting so notebook runs"
   ]
  },
  {
   "cell_type": "markdown",
   "id": "1b36307b-fc51-4bbc-959e-5b2d327a0905",
   "metadata": {},
   "source": [
    "3.6 Self Check"
   ]
  },
  {
   "cell_type": "code",
   "execution_count": 73,
   "id": "71bb986b-1b02-4ecb-b701-e832eb2a01a8",
   "metadata": {},
   "outputs": [
    {
     "name": "stdout",
     "output_type": "stream",
     "text": [
      "2401 is the first power of 7 greater than 1000.\n"
     ]
    }
   ],
   "source": [
    "product = 7\n",
    "while product <= 1000:\n",
    "    product *= 7\n",
    "print(f'{product} is the first power of 7 greater than 1000.')"
   ]
  },
  {
   "cell_type": "markdown",
   "id": "891e31b7-162e-4097-96d6-455e6b4820f4",
   "metadata": {},
   "source": [
    "3.8 Self Check"
   ]
  },
  {
   "cell_type": "code",
   "execution_count": 74,
   "id": "a25c5b85-e489-4f50-83de-c257ff8dae8f",
   "metadata": {},
   "outputs": [
    {
     "name": "stdout",
     "output_type": "stream",
     "text": [
      "500000500000\n"
     ]
    }
   ],
   "source": [
    "total = 0\n",
    "for number in range(1000001):\n",
    "    total += number\n",
    "print(f'{total}')"
   ]
  },
  {
   "cell_type": "markdown",
   "id": "91b2e1d3-67fc-4bcc-8668-fac19cf37cd7",
   "metadata": {},
   "source": [
    "3.9 Self Checks"
   ]
  },
  {
   "cell_type": "code",
   "execution_count": 75,
   "id": "e62114b8-ca1b-4766-922c-1722adf0a2af",
   "metadata": {},
   "outputs": [
    {
     "name": "stdout",
     "output_type": "stream",
     "text": [
      "35\n"
     ]
    }
   ],
   "source": [
    "x=7\n",
    "x*=5\n",
    "print(x)"
   ]
  },
  {
   "cell_type": "code",
   "execution_count": 76,
   "id": "74a73f67-187b-4be4-aa83-2b2591cea50e",
   "metadata": {},
   "outputs": [
    {
     "name": "stdout",
     "output_type": "stream",
     "text": [
      "144\n"
     ]
    }
   ],
   "source": [
    "x = 12\n",
    "x **= 2\n",
    "print(x)"
   ]
  },
  {
   "cell_type": "markdown",
   "id": "9441c546-c2e2-4edc-a4fa-c26b4a5ea6dd",
   "metadata": {},
   "source": [
    "3.10 Practice/Self Check"
   ]
  },
  {
   "cell_type": "markdown",
   "id": "2d819d87-d789-41fe-bdc1-a4e511349202",
   "metadata": {},
   "source": [
    "Algorithm:\n",
    "Set total to zero\n",
    "Set grade counter to zero\n",
    "Set grades to a list of the ten grades\n",
    "\n",
    "For each grade in the grades list:\n",
    "    Add the grade to the total\n",
    "    Add one to the grade counter\n",
    "\n",
    "Set the class average to the total divided by the number of grades\n",
    "Display the class average"
   ]
  },
  {
   "cell_type": "code",
   "execution_count": 77,
   "id": "fa85a28b-d333-4f9d-8cca-516717cb7f39",
   "metadata": {},
   "outputs": [],
   "source": [
    "grades = [98,76,71,87,83,90,57,79,82,94]\n",
    "total = 0\n",
    "grade_counter = 0\n"
   ]
  },
  {
   "cell_type": "code",
   "execution_count": 78,
   "id": "e6f4183e-71c5-42dd-968d-9d40968053de",
   "metadata": {},
   "outputs": [],
   "source": [
    "for grade in grades:\n",
    "    total += grade\n",
    "    grade_counter += 1"
   ]
  },
  {
   "cell_type": "code",
   "execution_count": 79,
   "id": "f7f6b6dd-98d3-4c34-8b60-ec73a31210cf",
   "metadata": {},
   "outputs": [
    {
     "name": "stdout",
     "output_type": "stream",
     "text": [
      "Class average is 81.7\n"
     ]
    }
   ],
   "source": [
    "average = total / grade_counter\n",
    "print(f'Class average is {average}')"
   ]
  },
  {
   "cell_type": "code",
   "execution_count": 80,
   "id": "3814233c-f539-4cae-bfd7-945a76cb0ab6",
   "metadata": {},
   "outputs": [],
   "source": [
    "number1 = 7\n",
    "number2 = 5"
   ]
  },
  {
   "cell_type": "code",
   "execution_count": 81,
   "id": "3ae42d2d-8b74-45ee-9bee-6c5f82b1f209",
   "metadata": {},
   "outputs": [
    {
     "name": "stdout",
     "output_type": "stream",
     "text": [
      "7 times 5 is 35\n"
     ]
    }
   ],
   "source": [
    "print(f'{number1} times {number2} is {number1 * number2}')"
   ]
  },
  {
   "cell_type": "markdown",
   "id": "d38e4c2c-8e45-4e70-a5c2-82d3168c3498",
   "metadata": {},
   "source": [
    "3.13 Experimenting with range"
   ]
  },
  {
   "cell_type": "code",
   "execution_count": 82,
   "id": "a7b244b2-fd65-41f0-a8ee-dde4958cdc0c",
   "metadata": {},
   "outputs": [
    {
     "name": "stdout",
     "output_type": "stream",
     "text": [
      "5\n",
      "6\n",
      "7\n",
      "8\n",
      "9\n"
     ]
    }
   ],
   "source": [
    "for number in range(5, 10):\n",
    "    print(number)"
   ]
  },
  {
   "cell_type": "code",
   "execution_count": 83,
   "id": "42041578-9a79-4e7f-bff9-d4db7e60a7de",
   "metadata": {},
   "outputs": [
    {
     "name": "stdout",
     "output_type": "stream",
     "text": [
      "10\n",
      "9\n",
      "8\n",
      "7\n",
      "6\n"
     ]
    }
   ],
   "source": [
    "for number in range(10, 5, -1):\n",
    "    print(number)"
   ]
  },
  {
   "cell_type": "code",
   "execution_count": 84,
   "id": "f362edad-ff75-407c-b200-b560d5c5a4e9",
   "metadata": {},
   "outputs": [
    {
     "name": "stdout",
     "output_type": "stream",
     "text": [
      "10 8 6 4 2 "
     ]
    }
   ],
   "source": [
    "for number in range(10, 0, -2):\n",
    "    print(number, end = ' ')"
   ]
  },
  {
   "cell_type": "code",
   "execution_count": 85,
   "id": "c61f988c-c010-41c8-9518-6871db783c45",
   "metadata": {},
   "outputs": [],
   "source": [
    "for number in range(10, 0, 2):\n",
    "    print(number, end = ' ')"
   ]
  },
  {
   "cell_type": "raw",
   "id": "b62f31ba-4bad-46d3-a4e8-2d873763854a",
   "metadata": {},
   "source": [
    "Nothing happens because we increment out of the range."
   ]
  },
  {
   "cell_type": "code",
   "execution_count": 86,
   "id": "9db16fb9-dbbe-4394-a6b5-7ea6c68ebe3b",
   "metadata": {},
   "outputs": [
    {
     "name": "stdout",
     "output_type": "stream",
     "text": [
      "99 88 77 66 55 44 33 22 11 0 "
     ]
    }
   ],
   "source": [
    "for number in range(99, -1, -11):\n",
    "    print(number, end=' ')"
   ]
  },
  {
   "cell_type": "code",
   "execution_count": 87,
   "id": "40c49369-380d-4a29-ad0d-95d33291d5f7",
   "metadata": {},
   "outputs": [
    {
     "name": "stdout",
     "output_type": "stream",
     "text": [
      "2 4 6 8 10 12 14 16 18 20 22 24 26 28 30 32 34 36 38 40 42 44 46 48 50 52 54 56 58 60 62 64 66 68 70 72 74 76 78 80 82 84 86 88 90 92 94 96 98 100 "
     ]
    }
   ],
   "source": [
    "for number in range(2, 102, 2):\n",
    "    print(number, end=' ')"
   ]
  },
  {
   "cell_type": "code",
   "execution_count": 88,
   "id": "52639a01-91eb-4814-b1d6-0ee4785fcb12",
   "metadata": {},
   "outputs": [],
   "source": [
    "Sum = 0\n",
    "for number in range(2, 102, 2):\n",
    "    Sum += number"
   ]
  },
  {
   "cell_type": "code",
   "execution_count": 89,
   "id": "3cb28cd8-3d86-4f21-89e6-732a8edac658",
   "metadata": {},
   "outputs": [
    {
     "data": {
      "text/plain": [
       "2550"
      ]
     },
     "execution_count": 89,
     "metadata": {},
     "output_type": "execute_result"
    }
   ],
   "source": [
    "Sum"
   ]
  },
  {
   "cell_type": "markdown",
   "id": "a8b099c2-e8cf-4490-9cc4-1c5dc60aee62",
   "metadata": {},
   "source": [
    "3.14 Using the decimal type"
   ]
  },
  {
   "cell_type": "code",
   "execution_count": 90,
   "id": "eb60d072-3336-4b63-8bad-10b600cbfb70",
   "metadata": {},
   "outputs": [],
   "source": [
    "import decimal as decimal"
   ]
  },
  {
   "cell_type": "code",
   "execution_count": 91,
   "id": "4707ad2b-7ba4-4845-8f41-4bc27f4130db",
   "metadata": {},
   "outputs": [],
   "source": [
    "principal = decimal.Decimal('1000.0')\n",
    "rate = decimal.Decimal('0.05')\n"
   ]
  },
  {
   "cell_type": "code",
   "execution_count": 92,
   "id": "35af9eac-8f3e-4928-bfad-63dd1e06fed7",
   "metadata": {},
   "outputs": [
    {
     "name": "stdout",
     "output_type": "stream",
     "text": [
      " 1   1050.00\n",
      " 2   1102.50\n",
      " 3   1157.62\n",
      " 4   1215.51\n",
      " 5   1276.28\n",
      " 6   1340.10\n",
      " 7   1407.10\n",
      " 8   1477.46\n",
      " 9   1551.33\n",
      "10   1628.89\n",
      "11   1710.34\n",
      "12   1795.86\n",
      "13   1885.65\n",
      "14   1979.93\n",
      "15   2078.93\n",
      "16   2182.87\n",
      "17   2292.02\n",
      "18   2406.62\n",
      "19   2526.95\n",
      "20   2653.30\n",
      "21   2785.96\n",
      "22   2925.26\n",
      "23   3071.52\n",
      "24   3225.10\n",
      "25   3386.35\n",
      "26   3555.67\n",
      "27   3733.46\n",
      "28   3920.13\n",
      "29   4116.14\n"
     ]
    }
   ],
   "source": [
    "for year in range(1, 30):\n",
    "    amount = principal * (1+rate) ** year\n",
    "    print(f'{year:>2}{amount:>10.2f}')"
   ]
  },
  {
   "cell_type": "raw",
   "id": "cd16e73b-6076-445e-829e-1c98dcfc8fbf",
   "metadata": {},
   "source": [
    "Self checks for 3.14"
   ]
  },
  {
   "cell_type": "code",
   "execution_count": 93,
   "id": "b1610121-7184-4695-bf3b-824190ad878c",
   "metadata": {},
   "outputs": [
    {
     "name": "stdout",
     "output_type": "stream",
     "text": [
      "39.79\n"
     ]
    }
   ],
   "source": [
    "print(f\"{decimal.Decimal('37.45') * decimal.Decimal('1.0625'):.2f}\")"
   ]
  },
  {
   "cell_type": "markdown",
   "id": "b2e1fa14-8814-4e3b-87c9-b2462b3d42bb",
   "metadata": {},
   "source": [
    "3.15 practice"
   ]
  },
  {
   "cell_type": "code",
   "execution_count": 94,
   "id": "348bfdcc-33be-44a9-bbf2-8cfd5c47f3ca",
   "metadata": {},
   "outputs": [],
   "source": [
    "import random as random"
   ]
  },
  {
   "cell_type": "code",
   "execution_count": 95,
   "id": "28dbe5ef-6a6d-4615-a5ec-3525f99ab900",
   "metadata": {},
   "outputs": [
    {
     "name": "stdout",
     "output_type": "stream",
     "text": [
      "-0.0\n",
      "1.0\n"
     ]
    }
   ],
   "source": [
    "for i in range(10000):\n",
    "    number = random.randint(-1, 1)\n",
    "    if number == 0:\n",
    "        break\n",
    "    print(i/number)"
   ]
  },
  {
   "cell_type": "code",
   "execution_count": 96,
   "id": "e0f46b69-80be-40dd-adea-62928f3179f0",
   "metadata": {},
   "outputs": [
    {
     "name": "stdout",
     "output_type": "stream",
     "text": [
      "zero encountered!\n"
     ]
    }
   ],
   "source": [
    "for i in range(100):\n",
    "    number=random.randint(-1,1)\n",
    "    if number != 0:\n",
    "        continue\n",
    "    else:\n",
    "        print(\"zero encountered!\")\n",
    "        break\n",
    "    print(i/number, end=', ')"
   ]
  },
  {
   "cell_type": "markdown",
   "id": "7a7aac63-d6b8-4357-b6ed-32a34057ae7e",
   "metadata": {},
   "source": [
    "3.16 Practice/Self Check"
   ]
  },
  {
   "cell_type": "code",
   "execution_count": 97,
   "id": "df8b98a4-8a4b-43e3-93eb-5f38fd1dfe2b",
   "metadata": {},
   "outputs": [],
   "source": [
    "i=1\n",
    "j=2\n",
    "k=3\n",
    "m=2"
   ]
  },
  {
   "cell_type": "code",
   "execution_count": 98,
   "id": "2392d2f0-9deb-487f-9cfc-17ec8fe08ac4",
   "metadata": {},
   "outputs": [
    {
     "data": {
      "text/plain": [
       "True"
      ]
     },
     "execution_count": 98,
     "metadata": {},
     "output_type": "execute_result"
    }
   ],
   "source": [
    "(i >= 1) and (j < 4)"
   ]
  },
  {
   "cell_type": "code",
   "execution_count": 99,
   "id": "fe747367-500c-4dd0-89c7-7f67a6b0cc29",
   "metadata": {},
   "outputs": [
    {
     "data": {
      "text/plain": [
       "False"
      ]
     },
     "execution_count": 99,
     "metadata": {},
     "output_type": "execute_result"
    }
   ],
   "source": [
    "(m <= 99) and (k < m)"
   ]
  },
  {
   "cell_type": "code",
   "execution_count": 100,
   "id": "687bf00a-ca04-46a6-98fc-e4cfd7b897a6",
   "metadata": {},
   "outputs": [
    {
     "data": {
      "text/plain": [
       "True"
      ]
     },
     "execution_count": 100,
     "metadata": {},
     "output_type": "execute_result"
    }
   ],
   "source": [
    "(j >= i) or (k == m)"
   ]
  },
  {
   "cell_type": "code",
   "execution_count": 101,
   "id": "bd0a38c0-abdb-4308-b161-53bbd14d340e",
   "metadata": {},
   "outputs": [
    {
     "data": {
      "text/plain": [
       "False"
      ]
     },
     "execution_count": 101,
     "metadata": {},
     "output_type": "execute_result"
    }
   ],
   "source": [
    "(k + m < j) or (3 - j >= k)"
   ]
  },
  {
   "cell_type": "code",
   "execution_count": 102,
   "id": "77bd1323-e326-4f04-a788-a680910ffab3",
   "metadata": {},
   "outputs": [
    {
     "data": {
      "text/plain": [
       "False"
      ]
     },
     "execution_count": 102,
     "metadata": {},
     "output_type": "execute_result"
    }
   ],
   "source": [
    "not (k > m)"
   ]
  },
  {
   "cell_type": "code",
   "execution_count": 103,
   "id": "ef939ded-93e9-45c9-9211-dbceb2d3ecdb",
   "metadata": {},
   "outputs": [
    {
     "data": {
      "text/plain": [
       "True"
      ]
     },
     "execution_count": 103,
     "metadata": {},
     "output_type": "execute_result"
    }
   ],
   "source": [
    "not 0"
   ]
  },
  {
   "cell_type": "code",
   "execution_count": 104,
   "id": "752a9481-1c25-4878-ba17-ae6c04b0dbe6",
   "metadata": {},
   "outputs": [
    {
     "data": {
      "text/plain": [
       "True"
      ]
     },
     "execution_count": 104,
     "metadata": {},
     "output_type": "execute_result"
    }
   ],
   "source": [
    "not []"
   ]
  },
  {
   "cell_type": "code",
   "execution_count": 105,
   "id": "c9e52e34-44c9-4d0d-b178-e484a18e27fa",
   "metadata": {},
   "outputs": [
    {
     "data": {
      "text/plain": [
       "True"
      ]
     },
     "execution_count": 105,
     "metadata": {},
     "output_type": "execute_result"
    }
   ],
   "source": [
    "(not 0 and not []) or [1]"
   ]
  },
  {
   "cell_type": "code",
   "execution_count": 106,
   "id": "b8263b7e-2bfe-4375-a669-4e0bd4dea7d3",
   "metadata": {},
   "outputs": [
    {
     "data": {
      "text/plain": [
       "True"
      ]
     },
     "execution_count": 106,
     "metadata": {},
     "output_type": "execute_result"
    }
   ],
   "source": [
    "True or False"
   ]
  },
  {
   "cell_type": "code",
   "execution_count": 107,
   "id": "c069f8c4-45a3-4ded-a1a9-dd765d01566a",
   "metadata": {},
   "outputs": [
    {
     "name": "stdout",
     "output_type": "stream",
     "text": [
      "True\n"
     ]
    }
   ],
   "source": [
    "if((True or False) or not True):\n",
    "    print(f'{not [] and not bool(10 ** 0 - 1)}')"
   ]
  },
  {
   "cell_type": "markdown",
   "id": "8ee97df6-b71b-492d-8877-1b43275c4870",
   "metadata": {},
   "source": [
    "6. Measures of Central Tendency with Statistics Module and 7. Calculate Measures of Central Tendency with Statistic Module"
   ]
  },
  {
   "cell_type": "code",
   "execution_count": 108,
   "id": "1fe4e253-d211-4a12-8d3f-525cc25e75f4",
   "metadata": {},
   "outputs": [],
   "source": [
    "import statistics as statistics"
   ]
  },
  {
   "cell_type": "code",
   "execution_count": 109,
   "id": "e4e32867-9eab-4e0e-b49c-0a7d6e46c501",
   "metadata": {},
   "outputs": [],
   "source": [
    "values = [47, 95, 88, 73, 88, 84]"
   ]
  },
  {
   "cell_type": "code",
   "execution_count": 110,
   "id": "a2f33761-76fd-4f10-b2e3-1bb358938a62",
   "metadata": {},
   "outputs": [
    {
     "name": "stdout",
     "output_type": "stream",
     "text": [
      "Count is 6.\n"
     ]
    }
   ],
   "source": [
    "print(f'Count is {len(values)}.')"
   ]
  },
  {
   "cell_type": "code",
   "execution_count": 111,
   "id": "a9c2073c-0694-49e9-a13e-46db953912b8",
   "metadata": {},
   "outputs": [
    {
     "name": "stdout",
     "output_type": "stream",
     "text": [
      "Sum is 475.\n"
     ]
    }
   ],
   "source": [
    "print(f'Sum is {sum(values)}.')"
   ]
  },
  {
   "cell_type": "code",
   "execution_count": 112,
   "id": "19e7418d-c871-424f-9ea0-b30beef8e95f",
   "metadata": {},
   "outputs": [
    {
     "name": "stdout",
     "output_type": "stream",
     "text": [
      "Sum is 475.\n"
     ]
    }
   ],
   "source": [
    "print(f'Sum is {sum(values)}.')"
   ]
  },
  {
   "cell_type": "code",
   "execution_count": 113,
   "id": "2d4042a0-6143-4f6e-b5f0-7a46a19c4b72",
   "metadata": {},
   "outputs": [
    {
     "name": "stdout",
     "output_type": "stream",
     "text": [
      "Mean is 79.16666666666667.\n"
     ]
    }
   ],
   "source": [
    "print(f'Mean is {sum(values)/len(values)}.')"
   ]
  },
  {
   "cell_type": "code",
   "execution_count": 114,
   "id": "8d8a26e4-5eb6-4109-b8f5-5488b8bbf1bf",
   "metadata": {},
   "outputs": [
    {
     "name": "stdout",
     "output_type": "stream",
     "text": [
      "The mean is 79.16666666666667.\n"
     ]
    }
   ],
   "source": [
    "print(f'The mean is {statistics.mean(values)}.')"
   ]
  },
  {
   "cell_type": "code",
   "execution_count": 115,
   "id": "efa3127a-13be-499e-be54-57c302c366b3",
   "metadata": {},
   "outputs": [
    {
     "name": "stdout",
     "output_type": "stream",
     "text": [
      "The median is 86.0.\n"
     ]
    }
   ],
   "source": [
    "print(f'The median is {statistics.median(values)}.')"
   ]
  },
  {
   "cell_type": "code",
   "execution_count": 116,
   "id": "e70e8045-7624-4b3d-98a4-b8563e5ce0d1",
   "metadata": {},
   "outputs": [
    {
     "name": "stdout",
     "output_type": "stream",
     "text": [
      "The mode is 88\n"
     ]
    }
   ],
   "source": [
    "print(f'The mode is {statistics.mode(values)}')"
   ]
  },
  {
   "cell_type": "markdown",
   "id": "857468f9-a201-4266-8ec1-0512c8e1a95e",
   "metadata": {},
   "source": [
    "8. Custom Central Tendency"
   ]
  },
  {
   "cell_type": "code",
   "execution_count": 117,
   "id": "650f84e1-65dd-4e8a-ada9-274f03ce8163",
   "metadata": {},
   "outputs": [],
   "source": [
    "random.seed(10) #choosing a specific random seed for reproducible results; if I wanted random run to run variance I would seed using the system timer or something"
   ]
  },
  {
   "cell_type": "code",
   "execution_count": 118,
   "id": "ece32afc-5423-4d31-b8b8-3106bd3a5079",
   "metadata": {},
   "outputs": [],
   "source": [
    "custom_data = []"
   ]
  },
  {
   "cell_type": "code",
   "execution_count": 119,
   "id": "f350aa4f-505d-41b9-97ad-73f507962e02",
   "metadata": {},
   "outputs": [],
   "source": [
    "for i in range(10000):\n",
    "    custom_data.append(int(random.gauss(50, 15))) #generating gaussian distributed data and casting to int; this will hopefully cause enough duplicates in 10k iterations to make a mode near mu"
   ]
  },
  {
   "cell_type": "code",
   "execution_count": 120,
   "id": "eb635329-3eb7-48e2-abe8-d31ccebf0896",
   "metadata": {},
   "outputs": [],
   "source": [
    "count = len(custom_data)"
   ]
  },
  {
   "cell_type": "code",
   "execution_count": 121,
   "id": "bf4f7c12-6587-4ad9-a8ce-771822fe89c9",
   "metadata": {},
   "outputs": [],
   "source": [
    "Sum = sum(custom_data)"
   ]
  },
  {
   "cell_type": "code",
   "execution_count": 122,
   "id": "56ef67ab-eba4-4070-bb1b-d1b80e7588f4",
   "metadata": {},
   "outputs": [],
   "source": [
    "Mean = statistics.mean(custom_data)"
   ]
  },
  {
   "cell_type": "code",
   "execution_count": 123,
   "id": "694ad4ee-c491-459e-bf52-09588e826297",
   "metadata": {},
   "outputs": [],
   "source": [
    "Median = statistics.median(custom_data)"
   ]
  },
  {
   "cell_type": "code",
   "execution_count": 124,
   "id": "a03fd24d-7e06-4a60-b3ba-f3361dd8a929",
   "metadata": {},
   "outputs": [],
   "source": [
    "Mode = statistics.mode(custom_data)"
   ]
  },
  {
   "cell_type": "code",
   "execution_count": 125,
   "id": "50b514ec-ee87-4d30-bd46-52c2ebd27491",
   "metadata": {},
   "outputs": [
    {
     "name": "stdout",
     "output_type": "stream",
     "text": [
      "The count is 10000.\n",
      "The sum is 493389.\n",
      "The mean is 49.3389.\n",
      "The median is 49.0.\n",
      "The mode is 47.\n"
     ]
    }
   ],
   "source": [
    "print(f'The count is {count}.')\n",
    "print(f'The sum is {Sum}.')\n",
    "print(f'The mean is {Mean}.')\n",
    "print(f'The median is {Median}.')\n",
    "print(f'The mode is {Mode}.')"
   ]
  },
  {
   "cell_type": "code",
   "execution_count": null,
   "id": "52bcae1c-c5b1-4f23-a352-5c206c35d42f",
   "metadata": {},
   "outputs": [],
   "source": []
  },
  {
   "cell_type": "code",
   "execution_count": null,
   "id": "b2d922da-5d3d-41ab-b5e7-a107b6c1188a",
   "metadata": {},
   "outputs": [],
   "source": []
  }
 ],
 "metadata": {
  "kernelspec": {
   "display_name": "Python 3 (ipykernel)",
   "language": "python",
   "name": "python3"
  },
  "language_info": {
   "codemirror_mode": {
    "name": "ipython",
    "version": 3
   },
   "file_extension": ".py",
   "mimetype": "text/x-python",
   "name": "python",
   "nbconvert_exporter": "python",
   "pygments_lexer": "ipython3",
   "version": "3.9.7"
  }
 },
 "nbformat": 4,
 "nbformat_minor": 5
}
